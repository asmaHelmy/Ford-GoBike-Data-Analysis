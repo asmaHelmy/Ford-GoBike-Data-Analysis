{
 "cells": [
  {
   "cell_type": "markdown",
   "metadata": {
    "slideshow": {
     "slide_type": "slide"
    }
   },
   "source": [
    "# An Analysis of GoBike Data"
   ]
  },
  {
   "cell_type": "markdown",
   "metadata": {
    "slideshow": {
     "slide_type": "subslide"
    }
   },
   "source": [
    "## Overview\n",
    "**This is an analysis of GoBike Data in the periods of Jan:Aug 2019 & Jan:Aug 2020. We chose these specific periods to inspect the impact of COVID-19 on the bussiness.** (Latest released data for 2020 was August, so we will work with 2019 data till August as well.)\n",
    "\n",
    "This analysis is done to **highlight COVID-19 impact, to gain insights about users & to help the company target offers in certain stations.**"
   ]
  },
  {
   "cell_type": "markdown",
   "metadata": {
    "slideshow": {
     "slide_type": "slide"
    }
   },
   "source": [
    "## Analysis approach\n",
    "\n",
    "**Univariate relationships:**\n",
    "\n",
    "- Number of rides per user type; who does the most rides?\n",
    "- Explore most used bike_type.\n",
    "- Explore start_weekday of trips.\n",
    "- Explore start_hour of trips.\n",
    "- Find top 10 stations (top-start & top-end) and the common stations between them to target offers to users visiting these places.\n",
    "\n",
    "**Bivariate relationships:**\n",
    "\n",
    "- Find most crowded stations at rush hours.\n",
    "- Explore bike rides in 2019 and 2020 throughout the period of Jan:Aug, and see if COVID-19 affected the bussiness; number of rides.\n",
    "- Compare rental_methods and user_types.\n",
    "- Is there a relationship between trip hour-time and user_type?\n",
    "- Explore the relationship between user_type, trip duration.\n",
    "\n",
    "**Multivariate relationships:**\n",
    "- Explore the relationship between start_weekday, trip_duration and user_type."
   ]
  },
  {
   "cell_type": "markdown",
   "metadata": {
    "slideshow": {
     "slide_type": "slide"
    }
   },
   "source": [
    "## The Data\n",
    "\n",
    "**This data is provided according to the Bay Wheels License Agreement. Each trip is anonymized and includes:**\n",
    "\n",
    "- Trip Duration (in seconds)\n",
    "- Start Time and Date\n",
    "- End Time and Date\n",
    "- Start Station ID\n",
    "- Start Station Name\n",
    "- Start Station Latitude\n",
    "- Start Station Longitude\n",
    "- End Station ID\n",
    "- End Station Name\n",
    "- End Station Latitude\n",
    "- End Station Longitude\n",
    "- Bike ID\n",
    "- User Type (Subscriber or Customer – “Subscriber” = Member or “Customer” = Casual)"
   ]
  },
  {
   "cell_type": "code",
   "execution_count": 1,
   "metadata": {
    "ExecuteTime": {
     "end_time": "2020-10-14T21:21:37.013784Z",
     "start_time": "2020-10-14T21:21:36.256297Z"
    },
    "slideshow": {
     "slide_type": "skip"
    }
   },
   "outputs": [],
   "source": [
    "import os\n",
    "import csv\n",
    "from requests import get\n",
    "from io import BytesIO\n",
    "from zipfile import ZipFile\n",
    "\n",
    "import numpy as np\n",
    "import pandas as pd\n",
    "import seaborn as sb\n",
    "import matplotlib.pyplot as plt\n",
    "\n",
    "%matplotlib inline"
   ]
  },
  {
   "cell_type": "code",
   "execution_count": 2,
   "metadata": {
    "ExecuteTime": {
     "end_time": "2020-10-14T21:21:37.019536Z",
     "start_time": "2020-10-14T21:21:37.015770Z"
    },
    "slideshow": {
     "slide_type": "skip"
    }
   },
   "outputs": [],
   "source": [
    "def get_name(year, i):\n",
    "        \n",
    "    \"\"\"\n",
    "    \n",
    "    As file names change every year and every month,    \n",
    "    files from 1/2019 to 4/2019 have the name 'fordgobike'\n",
    "    while the rest have the name 'baywheels'\n",
    "    \n",
    "    This loop will generate variate fileName.csv(s)\n",
    "    to be used when downloading and extracting data\n",
    "    \n",
    "    \"\"\"\n",
    "    \n",
    "    if (year == '2019' and i < 5):\n",
    "            name = '{}0{}-fordgobike-tripdata.csv'.format(year, str(i))\n",
    "            \n",
    "    else:\n",
    "            name = '{}0{}-baywheels-tripdata.csv'.format(year, str(i))\n",
    "    \n",
    "    return name"
   ]
  },
  {
   "cell_type": "code",
   "execution_count": 3,
   "metadata": {
    "ExecuteTime": {
     "end_time": "2020-10-14T21:21:37.059754Z",
     "start_time": "2020-10-14T21:21:37.020992Z"
    },
    "slideshow": {
     "slide_type": "skip"
    }
   },
   "outputs": [],
   "source": [
    "def get_data():\n",
    "    \n",
    "    \"\"\"\n",
    "    \n",
    "    RUN ONCE TO DOWNLOAD DATA\n",
    "    \n",
    "    Download the data for the first time [1/2019 : 8/2019] & [1/2020 : 8/2020]\n",
    "    \n",
    "    \"\"\"\n",
    "    \n",
    "    years = ['2019', '2020']\n",
    "    \n",
    "    # years 2019 & 2020\n",
    "    for year in years: \n",
    "        \n",
    "        # months from 1 to 8\n",
    "        for i in range(1,9):\n",
    "            \n",
    "            name = get_name(year, i)\n",
    "            url = 'https://s3.amazonaws.com/baywheels-data/{}.zip'.format(name)\n",
    "\n",
    "            request = get(url, allow_redirects = True)\n",
    "            zip_file = ZipFile(BytesIO(request.content))\n",
    "            files = zip_file.namelist()\n",
    "\n",
    "            zip_file.extractall('data')"
   ]
  },
  {
   "cell_type": "code",
   "execution_count": 4,
   "metadata": {
    "ExecuteTime": {
     "end_time": "2020-10-14T21:21:37.066926Z",
     "start_time": "2020-10-14T21:21:37.061854Z"
    },
    "slideshow": {
     "slide_type": "skip"
    }
   },
   "outputs": [],
   "source": [
    "# Uncomment to download the data for the first time [1/2019 : 8/2019] & [1/2020 : 8/2020]\n",
    "# get_data()"
   ]
  },
  {
   "cell_type": "code",
   "execution_count": 5,
   "metadata": {
    "ExecuteTime": {
     "end_time": "2020-10-14T21:21:37.078161Z",
     "start_time": "2020-10-14T21:21:37.071044Z"
    },
    "slideshow": {
     "slide_type": "skip"
    }
   },
   "outputs": [],
   "source": [
    "def create_df_of_all_data():\n",
    "    \n",
    "    \"\"\"\n",
    "    \n",
    "    RUN ONCE TO CREATE DATA (COMBINE CSVs)\n",
    "    \n",
    "    combine data [1/2019 : 8/2019] & [1/2020 : 8/2020] in one dataframe\n",
    "    \n",
    "    \"\"\"\n",
    "    \n",
    "    # specifying columns\n",
    "    # sorted to avoid mixing types.\n",
    "    columns = sorted(['duration_sec', 'start_time', 'end_time', 'start_station_id', 'start_station_name',\n",
    "           'start_station_latitude', 'start_station_longitude', 'end_station_id', 'end_station_name',\n",
    "           'end_station_latitude', 'end_station_longitude', 'bike_id', 'user_type',\n",
    "           'bike_share_for_all_trip', 'rental_access_method'])\n",
    "    \n",
    "    # declaring empty dataframe with these column names\n",
    "    df = pd.DataFrame([], columns=columns)\n",
    "    \n",
    "    years = ['2019', '2020']\n",
    "    \n",
    "    # years 2019 & 2020\n",
    "    for year in years: \n",
    "        \n",
    "        # months from 1 to 8\n",
    "        for i in range(1,9):\n",
    "            # getting name\n",
    "            name = get_name(year, i)\n",
    "            \n",
    "            # appending rows to df to contain all data \n",
    "            df = df.append(pd.read_csv('./data/' + name, low_memory=False), sort=True)\n",
    "            \n",
    "    df.to_csv(r'./data/2019_2020_BikeData_1_to_8.csv', index=False)"
   ]
  },
  {
   "cell_type": "code",
   "execution_count": 6,
   "metadata": {
    "ExecuteTime": {
     "end_time": "2020-10-14T21:21:37.084731Z",
     "start_time": "2020-10-14T21:21:37.082276Z"
    },
    "slideshow": {
     "slide_type": "skip"
    }
   },
   "outputs": [],
   "source": [
    "# Uncomment if running for the first time\n",
    "# create_df_of_all_data()"
   ]
  },
  {
   "cell_type": "code",
   "execution_count": 7,
   "metadata": {
    "ExecuteTime": {
     "end_time": "2020-10-14T21:21:54.348458Z",
     "start_time": "2020-10-14T21:21:37.086709Z"
    },
    "slideshow": {
     "slide_type": "skip"
    }
   },
   "outputs": [],
   "source": [
    "# reading dataframe of all data\n",
    "df = pd.read_csv('./data/2019_2020_BikeData_1_to_8.csv', low_memory=False)"
   ]
  },
  {
   "cell_type": "code",
   "execution_count": 8,
   "metadata": {
    "ExecuteTime": {
     "end_time": "2020-10-14T21:21:54.378465Z",
     "start_time": "2020-10-14T21:21:54.350084Z"
    },
    "scrolled": false,
    "slideshow": {
     "slide_type": "skip"
    }
   },
   "outputs": [
    {
     "data": {
      "text/html": [
       "<div>\n",
       "<style scoped>\n",
       "    .dataframe tbody tr th:only-of-type {\n",
       "        vertical-align: middle;\n",
       "    }\n",
       "\n",
       "    .dataframe tbody tr th {\n",
       "        vertical-align: top;\n",
       "    }\n",
       "\n",
       "    .dataframe thead th {\n",
       "        text-align: right;\n",
       "    }\n",
       "</style>\n",
       "<table border=\"1\" class=\"dataframe\">\n",
       "  <thead>\n",
       "    <tr style=\"text-align: right;\">\n",
       "      <th></th>\n",
       "      <th>bike_id</th>\n",
       "      <th>bike_share_for_all_trip</th>\n",
       "      <th>duration_sec</th>\n",
       "      <th>end_lat</th>\n",
       "      <th>end_lng</th>\n",
       "      <th>end_station_id</th>\n",
       "      <th>end_station_latitude</th>\n",
       "      <th>end_station_longitude</th>\n",
       "      <th>end_station_name</th>\n",
       "      <th>end_time</th>\n",
       "      <th>...</th>\n",
       "      <th>rideable_type</th>\n",
       "      <th>start_lat</th>\n",
       "      <th>start_lng</th>\n",
       "      <th>start_station_id</th>\n",
       "      <th>start_station_latitude</th>\n",
       "      <th>start_station_longitude</th>\n",
       "      <th>start_station_name</th>\n",
       "      <th>start_time</th>\n",
       "      <th>started_at</th>\n",
       "      <th>user_type</th>\n",
       "    </tr>\n",
       "  </thead>\n",
       "  <tbody>\n",
       "    <tr>\n",
       "      <td>0</td>\n",
       "      <td>4861.0</td>\n",
       "      <td>No</td>\n",
       "      <td>80825.0</td>\n",
       "      <td>NaN</td>\n",
       "      <td>NaN</td>\n",
       "      <td>196.0</td>\n",
       "      <td>37.808894</td>\n",
       "      <td>-122.256460</td>\n",
       "      <td>Grand Ave at Perkins St</td>\n",
       "      <td>2019-02-01 16:24:49.8640</td>\n",
       "      <td>...</td>\n",
       "      <td>NaN</td>\n",
       "      <td>NaN</td>\n",
       "      <td>NaN</td>\n",
       "      <td>229.0</td>\n",
       "      <td>37.775745</td>\n",
       "      <td>-122.213037</td>\n",
       "      <td>Foothill Blvd at 42nd Ave</td>\n",
       "      <td>2019-01-31 17:57:44.6130</td>\n",
       "      <td>NaN</td>\n",
       "      <td>Subscriber</td>\n",
       "    </tr>\n",
       "    <tr>\n",
       "      <td>1</td>\n",
       "      <td>5506.0</td>\n",
       "      <td>No</td>\n",
       "      <td>65900.0</td>\n",
       "      <td>NaN</td>\n",
       "      <td>NaN</td>\n",
       "      <td>134.0</td>\n",
       "      <td>37.752428</td>\n",
       "      <td>-122.420628</td>\n",
       "      <td>Valencia St at 24th St</td>\n",
       "      <td>2019-02-01 15:16:54.1730</td>\n",
       "      <td>...</td>\n",
       "      <td>NaN</td>\n",
       "      <td>NaN</td>\n",
       "      <td>NaN</td>\n",
       "      <td>4.0</td>\n",
       "      <td>37.785881</td>\n",
       "      <td>-122.408915</td>\n",
       "      <td>Cyril Magnin St at Ellis St</td>\n",
       "      <td>2019-01-31 20:58:33.8860</td>\n",
       "      <td>NaN</td>\n",
       "      <td>Subscriber</td>\n",
       "    </tr>\n",
       "    <tr>\n",
       "      <td>2</td>\n",
       "      <td>2717.0</td>\n",
       "      <td>No</td>\n",
       "      <td>62633.0</td>\n",
       "      <td>NaN</td>\n",
       "      <td>NaN</td>\n",
       "      <td>157.0</td>\n",
       "      <td>37.846784</td>\n",
       "      <td>-122.291376</td>\n",
       "      <td>65th St at Hollis St</td>\n",
       "      <td>2019-02-01 11:30:46.5300</td>\n",
       "      <td>...</td>\n",
       "      <td>NaN</td>\n",
       "      <td>NaN</td>\n",
       "      <td>NaN</td>\n",
       "      <td>245.0</td>\n",
       "      <td>37.870139</td>\n",
       "      <td>-122.268422</td>\n",
       "      <td>Downtown Berkeley BART</td>\n",
       "      <td>2019-01-31 18:06:52.9240</td>\n",
       "      <td>NaN</td>\n",
       "      <td>Customer</td>\n",
       "    </tr>\n",
       "    <tr>\n",
       "      <td>3</td>\n",
       "      <td>4557.0</td>\n",
       "      <td>No</td>\n",
       "      <td>44680.0</td>\n",
       "      <td>NaN</td>\n",
       "      <td>NaN</td>\n",
       "      <td>53.0</td>\n",
       "      <td>37.775946</td>\n",
       "      <td>-122.437777</td>\n",
       "      <td>Grove St at Divisadero</td>\n",
       "      <td>2019-02-01 08:10:50.3180</td>\n",
       "      <td>...</td>\n",
       "      <td>NaN</td>\n",
       "      <td>NaN</td>\n",
       "      <td>NaN</td>\n",
       "      <td>85.0</td>\n",
       "      <td>37.770083</td>\n",
       "      <td>-122.429156</td>\n",
       "      <td>Church St at Duboce Ave</td>\n",
       "      <td>2019-01-31 19:46:09.7190</td>\n",
       "      <td>NaN</td>\n",
       "      <td>Customer</td>\n",
       "    </tr>\n",
       "    <tr>\n",
       "      <td>4</td>\n",
       "      <td>2100.0</td>\n",
       "      <td>No</td>\n",
       "      <td>60709.0</td>\n",
       "      <td>NaN</td>\n",
       "      <td>NaN</td>\n",
       "      <td>28.0</td>\n",
       "      <td>37.787168</td>\n",
       "      <td>-122.388098</td>\n",
       "      <td>The Embarcadero at Bryant St</td>\n",
       "      <td>2019-02-01 07:10:51.0650</td>\n",
       "      <td>...</td>\n",
       "      <td>NaN</td>\n",
       "      <td>NaN</td>\n",
       "      <td>NaN</td>\n",
       "      <td>16.0</td>\n",
       "      <td>37.794130</td>\n",
       "      <td>-122.394430</td>\n",
       "      <td>Steuart St at Market St</td>\n",
       "      <td>2019-01-31 14:19:01.5410</td>\n",
       "      <td>NaN</td>\n",
       "      <td>Customer</td>\n",
       "    </tr>\n",
       "  </tbody>\n",
       "</table>\n",
       "<p>5 rows × 25 columns</p>\n",
       "</div>"
      ],
      "text/plain": [
       "   bike_id bike_share_for_all_trip  duration_sec  end_lat  end_lng  \\\n",
       "0   4861.0                      No       80825.0      NaN      NaN   \n",
       "1   5506.0                      No       65900.0      NaN      NaN   \n",
       "2   2717.0                      No       62633.0      NaN      NaN   \n",
       "3   4557.0                      No       44680.0      NaN      NaN   \n",
       "4   2100.0                      No       60709.0      NaN      NaN   \n",
       "\n",
       "   end_station_id  end_station_latitude  end_station_longitude  \\\n",
       "0           196.0             37.808894            -122.256460   \n",
       "1           134.0             37.752428            -122.420628   \n",
       "2           157.0             37.846784            -122.291376   \n",
       "3            53.0             37.775946            -122.437777   \n",
       "4            28.0             37.787168            -122.388098   \n",
       "\n",
       "               end_station_name                  end_time  ... rideable_type  \\\n",
       "0       Grand Ave at Perkins St  2019-02-01 16:24:49.8640  ...           NaN   \n",
       "1        Valencia St at 24th St  2019-02-01 15:16:54.1730  ...           NaN   \n",
       "2          65th St at Hollis St  2019-02-01 11:30:46.5300  ...           NaN   \n",
       "3        Grove St at Divisadero  2019-02-01 08:10:50.3180  ...           NaN   \n",
       "4  The Embarcadero at Bryant St  2019-02-01 07:10:51.0650  ...           NaN   \n",
       "\n",
       "  start_lat start_lng start_station_id start_station_latitude  \\\n",
       "0       NaN       NaN            229.0              37.775745   \n",
       "1       NaN       NaN              4.0              37.785881   \n",
       "2       NaN       NaN            245.0              37.870139   \n",
       "3       NaN       NaN             85.0              37.770083   \n",
       "4       NaN       NaN             16.0              37.794130   \n",
       "\n",
       "  start_station_longitude           start_station_name  \\\n",
       "0             -122.213037    Foothill Blvd at 42nd Ave   \n",
       "1             -122.408915  Cyril Magnin St at Ellis St   \n",
       "2             -122.268422       Downtown Berkeley BART   \n",
       "3             -122.429156      Church St at Duboce Ave   \n",
       "4             -122.394430      Steuart St at Market St   \n",
       "\n",
       "                 start_time  started_at   user_type  \n",
       "0  2019-01-31 17:57:44.6130         NaN  Subscriber  \n",
       "1  2019-01-31 20:58:33.8860         NaN  Subscriber  \n",
       "2  2019-01-31 18:06:52.9240         NaN    Customer  \n",
       "3  2019-01-31 19:46:09.7190         NaN    Customer  \n",
       "4  2019-01-31 14:19:01.5410         NaN    Customer  \n",
       "\n",
       "[5 rows x 25 columns]"
      ]
     },
     "execution_count": 8,
     "metadata": {},
     "output_type": "execute_result"
    }
   ],
   "source": [
    "df.head()"
   ]
  },
  {
   "cell_type": "code",
   "execution_count": 9,
   "metadata": {
    "ExecuteTime": {
     "end_time": "2020-10-14T21:21:54.499214Z",
     "start_time": "2020-10-14T21:21:54.380434Z"
    },
    "slideshow": {
     "slide_type": "skip"
    }
   },
   "outputs": [
    {
     "data": {
      "text/plain": [
       "(3306602, 25)"
      ]
     },
     "execution_count": 9,
     "metadata": {},
     "output_type": "execute_result"
    }
   ],
   "source": [
    "df.shape"
   ]
  },
  {
   "cell_type": "markdown",
   "metadata": {
    "slideshow": {
     "slide_type": "skip"
    }
   },
   "source": [
    "**This dataset has 3,306,602 records (rows) and 25 attributes (cols).**"
   ]
  },
  {
   "cell_type": "code",
   "execution_count": 10,
   "metadata": {
    "ExecuteTime": {
     "end_time": "2020-10-14T21:21:54.512676Z",
     "start_time": "2020-10-14T21:21:54.502035Z"
    },
    "slideshow": {
     "slide_type": "skip"
    }
   },
   "outputs": [
    {
     "name": "stdout",
     "output_type": "stream",
     "text": [
      "<class 'pandas.core.frame.DataFrame'>\n",
      "RangeIndex: 3306602 entries, 0 to 3306601\n",
      "Data columns (total 25 columns):\n",
      "bike_id                    float64\n",
      "bike_share_for_all_trip    object\n",
      "duration_sec               float64\n",
      "end_lat                    float64\n",
      "end_lng                    float64\n",
      "end_station_id             float64\n",
      "end_station_latitude       float64\n",
      "end_station_longitude      float64\n",
      "end_station_name           object\n",
      "end_time                   object\n",
      "ended_at                   object\n",
      "is_equity                  object\n",
      "member_casual              object\n",
      "rental_access_method       object\n",
      "ride_id                    object\n",
      "rideable_type              object\n",
      "start_lat                  float64\n",
      "start_lng                  float64\n",
      "start_station_id           float64\n",
      "start_station_latitude     float64\n",
      "start_station_longitude    float64\n",
      "start_station_name         object\n",
      "start_time                 object\n",
      "started_at                 object\n",
      "user_type                  object\n",
      "dtypes: float64(12), object(13)\n",
      "memory usage: 630.7+ MB\n"
     ]
    }
   ],
   "source": [
    "df.info()"
   ]
  },
  {
   "cell_type": "markdown",
   "metadata": {
    "slideshow": {
     "slide_type": "subslide"
    }
   },
   "source": [
    "**We won't use all of these columns, as some of them are irrelevant to our analysis, will only use:**\n",
    "\n",
    "- 'start_station_name'\n",
    "- 'end_station_name'\n",
    "- 'rental_access_method'\n",
    "- 'rideable_type'\n",
    "\n",
    "- **'duration_sec':** will extract duration in minutes \n",
    "- **'start_time', 'started_at':** same info, will combine them (fill Nulls in one column with its value in the other because they changed the column name in some months), will also change the column's type to datetime to extract year, month, day and weekday.\n",
    "- **'end_time', 'ended_at':** same info, will combine them (fill Nulls in one column with its value in the other), will also change the column's type to datetime.\n",
    "- **'member_casual', 'user_type':** same info, will combine them (fill Nulls in one column with its value in the other) and encode member >> subscriber & casual >> customer."
   ]
  },
  {
   "cell_type": "markdown",
   "metadata": {
    "slideshow": {
     "slide_type": "skip"
    }
   },
   "source": [
    "## Data Wrangling"
   ]
  },
  {
   "cell_type": "code",
   "execution_count": 11,
   "metadata": {
    "ExecuteTime": {
     "end_time": "2020-10-14T21:21:54.519228Z",
     "start_time": "2020-10-14T21:21:54.515343Z"
    },
    "slideshow": {
     "slide_type": "skip"
    }
   },
   "outputs": [],
   "source": [
    "# Specifying columns that will be used\n",
    "cols = ['start_station_name', 'end_station_name', 'rental_access_method',\n",
    "        'rideable_type', 'duration_sec', 'start_time', 'started_at',\n",
    "        'end_time', 'ended_at', 'member_casual', 'user_type']"
   ]
  },
  {
   "cell_type": "code",
   "execution_count": 12,
   "metadata": {
    "ExecuteTime": {
     "end_time": "2020-10-14T21:21:54.819339Z",
     "start_time": "2020-10-14T21:21:54.521499Z"
    },
    "slideshow": {
     "slide_type": "skip"
    }
   },
   "outputs": [],
   "source": [
    "# copying from original dataframe\n",
    "data = df[cols].iloc[:]"
   ]
  },
  {
   "cell_type": "code",
   "execution_count": 13,
   "metadata": {
    "ExecuteTime": {
     "end_time": "2020-10-14T21:21:54.867652Z",
     "start_time": "2020-10-14T21:21:54.821066Z"
    },
    "scrolled": false,
    "slideshow": {
     "slide_type": "skip"
    }
   },
   "outputs": [
    {
     "data": {
      "text/html": [
       "<div>\n",
       "<style scoped>\n",
       "    .dataframe tbody tr th:only-of-type {\n",
       "        vertical-align: middle;\n",
       "    }\n",
       "\n",
       "    .dataframe tbody tr th {\n",
       "        vertical-align: top;\n",
       "    }\n",
       "\n",
       "    .dataframe thead th {\n",
       "        text-align: right;\n",
       "    }\n",
       "</style>\n",
       "<table border=\"1\" class=\"dataframe\">\n",
       "  <thead>\n",
       "    <tr style=\"text-align: right;\">\n",
       "      <th></th>\n",
       "      <th>start_station_name</th>\n",
       "      <th>end_station_name</th>\n",
       "      <th>rental_access_method</th>\n",
       "      <th>rideable_type</th>\n",
       "      <th>duration_sec</th>\n",
       "      <th>start_time</th>\n",
       "      <th>started_at</th>\n",
       "      <th>end_time</th>\n",
       "      <th>ended_at</th>\n",
       "      <th>member_casual</th>\n",
       "      <th>user_type</th>\n",
       "    </tr>\n",
       "  </thead>\n",
       "  <tbody>\n",
       "    <tr>\n",
       "      <td>0</td>\n",
       "      <td>Foothill Blvd at 42nd Ave</td>\n",
       "      <td>Grand Ave at Perkins St</td>\n",
       "      <td>NaN</td>\n",
       "      <td>NaN</td>\n",
       "      <td>80825.0</td>\n",
       "      <td>2019-01-31 17:57:44.6130</td>\n",
       "      <td>NaN</td>\n",
       "      <td>2019-02-01 16:24:49.8640</td>\n",
       "      <td>NaN</td>\n",
       "      <td>NaN</td>\n",
       "      <td>Subscriber</td>\n",
       "    </tr>\n",
       "    <tr>\n",
       "      <td>1</td>\n",
       "      <td>Cyril Magnin St at Ellis St</td>\n",
       "      <td>Valencia St at 24th St</td>\n",
       "      <td>NaN</td>\n",
       "      <td>NaN</td>\n",
       "      <td>65900.0</td>\n",
       "      <td>2019-01-31 20:58:33.8860</td>\n",
       "      <td>NaN</td>\n",
       "      <td>2019-02-01 15:16:54.1730</td>\n",
       "      <td>NaN</td>\n",
       "      <td>NaN</td>\n",
       "      <td>Subscriber</td>\n",
       "    </tr>\n",
       "    <tr>\n",
       "      <td>2</td>\n",
       "      <td>Downtown Berkeley BART</td>\n",
       "      <td>65th St at Hollis St</td>\n",
       "      <td>NaN</td>\n",
       "      <td>NaN</td>\n",
       "      <td>62633.0</td>\n",
       "      <td>2019-01-31 18:06:52.9240</td>\n",
       "      <td>NaN</td>\n",
       "      <td>2019-02-01 11:30:46.5300</td>\n",
       "      <td>NaN</td>\n",
       "      <td>NaN</td>\n",
       "      <td>Customer</td>\n",
       "    </tr>\n",
       "    <tr>\n",
       "      <td>3</td>\n",
       "      <td>Church St at Duboce Ave</td>\n",
       "      <td>Grove St at Divisadero</td>\n",
       "      <td>NaN</td>\n",
       "      <td>NaN</td>\n",
       "      <td>44680.0</td>\n",
       "      <td>2019-01-31 19:46:09.7190</td>\n",
       "      <td>NaN</td>\n",
       "      <td>2019-02-01 08:10:50.3180</td>\n",
       "      <td>NaN</td>\n",
       "      <td>NaN</td>\n",
       "      <td>Customer</td>\n",
       "    </tr>\n",
       "    <tr>\n",
       "      <td>4</td>\n",
       "      <td>Steuart St at Market St</td>\n",
       "      <td>The Embarcadero at Bryant St</td>\n",
       "      <td>NaN</td>\n",
       "      <td>NaN</td>\n",
       "      <td>60709.0</td>\n",
       "      <td>2019-01-31 14:19:01.5410</td>\n",
       "      <td>NaN</td>\n",
       "      <td>2019-02-01 07:10:51.0650</td>\n",
       "      <td>NaN</td>\n",
       "      <td>NaN</td>\n",
       "      <td>Customer</td>\n",
       "    </tr>\n",
       "  </tbody>\n",
       "</table>\n",
       "</div>"
      ],
      "text/plain": [
       "            start_station_name              end_station_name  \\\n",
       "0    Foothill Blvd at 42nd Ave       Grand Ave at Perkins St   \n",
       "1  Cyril Magnin St at Ellis St        Valencia St at 24th St   \n",
       "2       Downtown Berkeley BART          65th St at Hollis St   \n",
       "3      Church St at Duboce Ave        Grove St at Divisadero   \n",
       "4      Steuart St at Market St  The Embarcadero at Bryant St   \n",
       "\n",
       "  rental_access_method rideable_type  duration_sec                start_time  \\\n",
       "0                  NaN           NaN       80825.0  2019-01-31 17:57:44.6130   \n",
       "1                  NaN           NaN       65900.0  2019-01-31 20:58:33.8860   \n",
       "2                  NaN           NaN       62633.0  2019-01-31 18:06:52.9240   \n",
       "3                  NaN           NaN       44680.0  2019-01-31 19:46:09.7190   \n",
       "4                  NaN           NaN       60709.0  2019-01-31 14:19:01.5410   \n",
       "\n",
       "  started_at                  end_time ended_at member_casual   user_type  \n",
       "0        NaN  2019-02-01 16:24:49.8640      NaN           NaN  Subscriber  \n",
       "1        NaN  2019-02-01 15:16:54.1730      NaN           NaN  Subscriber  \n",
       "2        NaN  2019-02-01 11:30:46.5300      NaN           NaN    Customer  \n",
       "3        NaN  2019-02-01 08:10:50.3180      NaN           NaN    Customer  \n",
       "4        NaN  2019-02-01 07:10:51.0650      NaN           NaN    Customer  "
      ]
     },
     "execution_count": 13,
     "metadata": {},
     "output_type": "execute_result"
    }
   ],
   "source": [
    "# displaying first 5 rows\n",
    "data.head()"
   ]
  },
  {
   "cell_type": "code",
   "execution_count": 14,
   "metadata": {
    "ExecuteTime": {
     "end_time": "2020-10-14T21:21:54.872869Z",
     "start_time": "2020-10-14T21:21:54.869278Z"
    },
    "slideshow": {
     "slide_type": "skip"
    }
   },
   "outputs": [
    {
     "data": {
      "text/plain": [
       "(3306602, 11)"
      ]
     },
     "execution_count": 14,
     "metadata": {},
     "output_type": "execute_result"
    }
   ],
   "source": [
    "# n_rows, n_columns\n",
    "data.shape"
   ]
  },
  {
   "cell_type": "markdown",
   "metadata": {
    "slideshow": {
     "slide_type": "skip"
    }
   },
   "source": [
    "**Now the dataset has 3,306,602 records (rows) and 11 attributes (cols).**"
   ]
  },
  {
   "cell_type": "code",
   "execution_count": 15,
   "metadata": {
    "ExecuteTime": {
     "end_time": "2020-10-14T21:21:54.881055Z",
     "start_time": "2020-10-14T21:21:54.875503Z"
    },
    "slideshow": {
     "slide_type": "skip"
    }
   },
   "outputs": [
    {
     "name": "stdout",
     "output_type": "stream",
     "text": [
      "<class 'pandas.core.frame.DataFrame'>\n",
      "RangeIndex: 3306602 entries, 0 to 3306601\n",
      "Data columns (total 11 columns):\n",
      "start_station_name      object\n",
      "end_station_name        object\n",
      "rental_access_method    object\n",
      "rideable_type           object\n",
      "duration_sec            float64\n",
      "start_time              object\n",
      "started_at              object\n",
      "end_time                object\n",
      "ended_at                object\n",
      "member_casual           object\n",
      "user_type               object\n",
      "dtypes: float64(1), object(10)\n",
      "memory usage: 277.5+ MB\n"
     ]
    }
   ],
   "source": [
    "# some info of the data\n",
    "data.info() "
   ]
  },
  {
   "cell_type": "code",
   "execution_count": 16,
   "metadata": {
    "ExecuteTime": {
     "end_time": "2020-10-14T21:21:55.915661Z",
     "start_time": "2020-10-14T21:21:54.882873Z"
    },
    "scrolled": false,
    "slideshow": {
     "slide_type": "skip"
    }
   },
   "outputs": [
    {
     "data": {
      "text/plain": [
       "start_station_name       784592\n",
       "end_station_name         797088\n",
       "rental_access_method    2596997\n",
       "rideable_type           2618511\n",
       "duration_sec             688091\n",
       "start_time               688091\n",
       "started_at              2618511\n",
       "end_time                 688091\n",
       "ended_at                2618511\n",
       "member_casual           2618511\n",
       "user_type                688091\n",
       "dtype: int64"
      ]
     },
     "execution_count": 16,
     "metadata": {},
     "output_type": "execute_result"
    }
   ],
   "source": [
    "data.isna().sum()"
   ]
  },
  {
   "cell_type": "markdown",
   "metadata": {
    "slideshow": {
     "slide_type": "skip"
    }
   },
   "source": [
    "## Checking for duplicates"
   ]
  },
  {
   "cell_type": "code",
   "execution_count": 17,
   "metadata": {
    "ExecuteTime": {
     "end_time": "2020-10-14T21:22:01.374818Z",
     "start_time": "2020-10-14T21:21:55.917390Z"
    },
    "slideshow": {
     "slide_type": "skip"
    }
   },
   "outputs": [
    {
     "data": {
      "text/plain": [
       "7587"
      ]
     },
     "execution_count": 17,
     "metadata": {},
     "output_type": "execute_result"
    }
   ],
   "source": [
    "data.duplicated().sum()"
   ]
  },
  {
   "cell_type": "code",
   "execution_count": 18,
   "metadata": {
    "ExecuteTime": {
     "end_time": "2020-10-14T21:22:06.861463Z",
     "start_time": "2020-10-14T21:22:01.376794Z"
    },
    "slideshow": {
     "slide_type": "skip"
    }
   },
   "outputs": [],
   "source": [
    "data.drop_duplicates(inplace=True)"
   ]
  },
  {
   "cell_type": "code",
   "execution_count": 19,
   "metadata": {
    "ExecuteTime": {
     "end_time": "2020-10-14T21:22:12.102696Z",
     "start_time": "2020-10-14T21:22:06.863011Z"
    },
    "slideshow": {
     "slide_type": "skip"
    }
   },
   "outputs": [
    {
     "data": {
      "text/plain": [
       "0"
      ]
     },
     "execution_count": 19,
     "metadata": {},
     "output_type": "execute_result"
    }
   ],
   "source": [
    "data.duplicated().sum()"
   ]
  },
  {
   "cell_type": "markdown",
   "metadata": {
    "slideshow": {
     "slide_type": "skip"
    }
   },
   "source": [
    "## Editing columns"
   ]
  },
  {
   "cell_type": "markdown",
   "metadata": {
    "slideshow": {
     "slide_type": "skip"
    }
   },
   "source": [
    "1. Convert duration from seconds to minutes\n",
    "2. Fill Nulls in 'start_time'  from their corresponding values in 'started_at'\n",
    "3. Fill Nulls in 'end_time' from their corresponding values in 'ended_at'\n",
    "4. Fill Nulls in 'user_type' from their corresponding values in 'member_casual', edit  member >> subscriber & casual >> customer\n",
    "5. Drop not-needed columns\n",
    "6. Extract duration in minutes from (end_time - start_time)\n",
    "7. Extract year, month, day, hour, weekday from start_time"
   ]
  },
  {
   "cell_type": "markdown",
   "metadata": {
    "slideshow": {
     "slide_type": "skip"
    }
   },
   "source": [
    "### 1. Convert duration from seconds to minutes"
   ]
  },
  {
   "cell_type": "code",
   "execution_count": 20,
   "metadata": {
    "ExecuteTime": {
     "end_time": "2020-10-14T21:22:12.244963Z",
     "start_time": "2020-10-14T21:22:12.104326Z"
    },
    "slideshow": {
     "slide_type": "skip"
    }
   },
   "outputs": [],
   "source": [
    "data['duration_min'] = data['duration_sec']/60"
   ]
  },
  {
   "cell_type": "markdown",
   "metadata": {
    "slideshow": {
     "slide_type": "skip"
    }
   },
   "source": [
    "### 2. Fill Nulls in 'start_time'  from their corresponding values in 'started_at'"
   ]
  },
  {
   "cell_type": "code",
   "execution_count": 21,
   "metadata": {
    "ExecuteTime": {
     "end_time": "2020-10-14T21:22:12.606097Z",
     "start_time": "2020-10-14T21:22:12.250592Z"
    },
    "slideshow": {
     "slide_type": "skip"
    }
   },
   "outputs": [],
   "source": [
    "data['start_time'].fillna(data['started_at'], axis=0, inplace=True)"
   ]
  },
  {
   "cell_type": "markdown",
   "metadata": {
    "slideshow": {
     "slide_type": "skip"
    }
   },
   "source": [
    "### 3. Fill Nulls in 'end_time' from their corresponding values in 'ended_at' "
   ]
  },
  {
   "cell_type": "code",
   "execution_count": 22,
   "metadata": {
    "ExecuteTime": {
     "end_time": "2020-10-14T21:22:12.911991Z",
     "start_time": "2020-10-14T21:22:12.608275Z"
    },
    "slideshow": {
     "slide_type": "skip"
    }
   },
   "outputs": [],
   "source": [
    "data['end_time'].fillna(data['ended_at'], axis=0, inplace=True)"
   ]
  },
  {
   "cell_type": "markdown",
   "metadata": {
    "slideshow": {
     "slide_type": "skip"
    }
   },
   "source": [
    "### 4. Fill Nulls in 'user_type' from their corresponding values in 'member_casual'"
   ]
  },
  {
   "cell_type": "code",
   "execution_count": 23,
   "metadata": {
    "ExecuteTime": {
     "end_time": "2020-10-14T21:22:13.921699Z",
     "start_time": "2020-10-14T21:22:12.915171Z"
    },
    "slideshow": {
     "slide_type": "skip"
    }
   },
   "outputs": [],
   "source": [
    "# fill NULLs\n",
    "data['user_type'].fillna(data['member_casual'], axis=0, inplace=True)\n",
    "\n",
    "# edit member >> subscriber\n",
    "data.loc[data['user_type'] == 'member', 'user_type'] = 'Subscriber'\n",
    "\n",
    "# edit casual >> custome\n",
    "data.loc[data['user_type'] == 'casual', 'user_type'] = 'Customer'"
   ]
  },
  {
   "cell_type": "markdown",
   "metadata": {
    "slideshow": {
     "slide_type": "skip"
    }
   },
   "source": [
    "### 5. Drop ['started_at',  'ended_at',  'member_casual', 'duration_sec']   because we no longer need them, we combined them with the other columns (same info)"
   ]
  },
  {
   "cell_type": "code",
   "execution_count": 24,
   "metadata": {
    "ExecuteTime": {
     "end_time": "2020-10-14T21:22:14.238740Z",
     "start_time": "2020-10-14T21:22:13.923959Z"
    },
    "slideshow": {
     "slide_type": "skip"
    }
   },
   "outputs": [],
   "source": [
    "data.drop(['started_at',  'ended_at',  'member_casual', 'duration_sec'], axis=1, inplace= True)"
   ]
  },
  {
   "cell_type": "code",
   "execution_count": 25,
   "metadata": {
    "ExecuteTime": {
     "end_time": "2020-10-14T21:22:14.991345Z",
     "start_time": "2020-10-14T21:22:14.240514Z"
    },
    "slideshow": {
     "slide_type": "skip"
    }
   },
   "outputs": [
    {
     "data": {
      "text/plain": [
       "start_station_name       778201\n",
       "end_station_name         790707\n",
       "rental_access_method    2596966\n",
       "rideable_type           2610955\n",
       "start_time                    0\n",
       "end_time                      0\n",
       "user_type                     0\n",
       "duration_min             688060\n",
       "dtype: int64"
      ]
     },
     "execution_count": 25,
     "metadata": {},
     "output_type": "execute_result"
    }
   ],
   "source": [
    "data.isna().sum()"
   ]
  },
  {
   "cell_type": "markdown",
   "metadata": {
    "slideshow": {
     "slide_type": "skip"
    }
   },
   "source": [
    "**Minutes column has missing values, however, start_time & end_time don't, we can calculate those missing values by endtime - start_time in minutes.**"
   ]
  },
  {
   "cell_type": "markdown",
   "metadata": {
    "slideshow": {
     "slide_type": "skip"
    }
   },
   "source": [
    "### 6. Extract duration in minutes from (end_time - start_time)"
   ]
  },
  {
   "cell_type": "code",
   "execution_count": 26,
   "metadata": {
    "ExecuteTime": {
     "end_time": "2020-10-14T21:22:16.553625Z",
     "start_time": "2020-10-14T21:22:14.993033Z"
    },
    "slideshow": {
     "slide_type": "skip"
    }
   },
   "outputs": [],
   "source": [
    "# first, we make start_time & end_time columns of type datetime\n",
    "\n",
    "data['start_time'] = pd.to_datetime(data['start_time']) \n",
    "data['end_time'] = pd.to_datetime(data['end_time']) "
   ]
  },
  {
   "cell_type": "code",
   "execution_count": 27,
   "metadata": {
    "ExecuteTime": {
     "end_time": "2020-10-14T21:22:16.614046Z",
     "start_time": "2020-10-14T21:22:16.555193Z"
    },
    "slideshow": {
     "slide_type": "skip"
    }
   },
   "outputs": [],
   "source": [
    "# calculate trip duration\n",
    "data['duration_min'] = (data['end_time'] - data['start_time']).dt.total_seconds()/60"
   ]
  },
  {
   "cell_type": "markdown",
   "metadata": {
    "slideshow": {
     "slide_type": "skip"
    }
   },
   "source": [
    "### 7.1. Extract year"
   ]
  },
  {
   "cell_type": "code",
   "execution_count": 28,
   "metadata": {
    "ExecuteTime": {
     "end_time": "2020-10-14T21:22:16.880458Z",
     "start_time": "2020-10-14T21:22:16.616485Z"
    },
    "slideshow": {
     "slide_type": "skip"
    }
   },
   "outputs": [],
   "source": [
    "data['start_year'] = data['start_time'].dt.year"
   ]
  },
  {
   "cell_type": "markdown",
   "metadata": {
    "slideshow": {
     "slide_type": "skip"
    }
   },
   "source": [
    "###  7.2. Extract month"
   ]
  },
  {
   "cell_type": "code",
   "execution_count": 29,
   "metadata": {
    "ExecuteTime": {
     "end_time": "2020-10-14T21:22:17.135055Z",
     "start_time": "2020-10-14T21:22:16.882018Z"
    },
    "slideshow": {
     "slide_type": "skip"
    }
   },
   "outputs": [],
   "source": [
    "data['start_month'] = data['start_time'].dt.month"
   ]
  },
  {
   "cell_type": "markdown",
   "metadata": {
    "slideshow": {
     "slide_type": "skip"
    }
   },
   "source": [
    "### 7.3. Extract day"
   ]
  },
  {
   "cell_type": "code",
   "execution_count": 30,
   "metadata": {
    "ExecuteTime": {
     "end_time": "2020-10-14T21:22:17.394459Z",
     "start_time": "2020-10-14T21:22:17.136587Z"
    },
    "slideshow": {
     "slide_type": "skip"
    }
   },
   "outputs": [],
   "source": [
    "data['start_day'] = data['start_time'].dt.day"
   ]
  },
  {
   "cell_type": "markdown",
   "metadata": {
    "slideshow": {
     "slide_type": "skip"
    }
   },
   "source": [
    "### 7.4. Extract start hour"
   ]
  },
  {
   "cell_type": "code",
   "execution_count": 31,
   "metadata": {
    "ExecuteTime": {
     "end_time": "2020-10-14T21:22:17.683476Z",
     "start_time": "2020-10-14T21:22:17.396932Z"
    },
    "slideshow": {
     "slide_type": "skip"
    }
   },
   "outputs": [],
   "source": [
    "data['start_hour'] = data['start_time'].dt.hour"
   ]
  },
  {
   "cell_type": "markdown",
   "metadata": {
    "slideshow": {
     "slide_type": "skip"
    }
   },
   "source": [
    "### 7.5. Extract start weekday"
   ]
  },
  {
   "cell_type": "code",
   "execution_count": 32,
   "metadata": {
    "ExecuteTime": {
     "end_time": "2020-10-14T21:22:18.552099Z",
     "start_time": "2020-10-14T21:22:17.688805Z"
    },
    "slideshow": {
     "slide_type": "skip"
    }
   },
   "outputs": [],
   "source": [
    "data['start_weekday'] = data['start_time'].dt.weekday_name"
   ]
  },
  {
   "cell_type": "markdown",
   "metadata": {
    "slideshow": {
     "slide_type": "skip"
    }
   },
   "source": [
    "### Check data"
   ]
  },
  {
   "cell_type": "code",
   "execution_count": 33,
   "metadata": {
    "ExecuteTime": {
     "end_time": "2020-10-14T21:22:18.568783Z",
     "start_time": "2020-10-14T21:22:18.553829Z"
    },
    "slideshow": {
     "slide_type": "skip"
    }
   },
   "outputs": [
    {
     "data": {
      "text/html": [
       "<div>\n",
       "<style scoped>\n",
       "    .dataframe tbody tr th:only-of-type {\n",
       "        vertical-align: middle;\n",
       "    }\n",
       "\n",
       "    .dataframe tbody tr th {\n",
       "        vertical-align: top;\n",
       "    }\n",
       "\n",
       "    .dataframe thead th {\n",
       "        text-align: right;\n",
       "    }\n",
       "</style>\n",
       "<table border=\"1\" class=\"dataframe\">\n",
       "  <thead>\n",
       "    <tr style=\"text-align: right;\">\n",
       "      <th></th>\n",
       "      <th>start_station_name</th>\n",
       "      <th>end_station_name</th>\n",
       "      <th>rental_access_method</th>\n",
       "      <th>rideable_type</th>\n",
       "      <th>start_time</th>\n",
       "      <th>end_time</th>\n",
       "      <th>user_type</th>\n",
       "      <th>duration_min</th>\n",
       "      <th>start_year</th>\n",
       "      <th>start_month</th>\n",
       "      <th>start_day</th>\n",
       "      <th>start_hour</th>\n",
       "      <th>start_weekday</th>\n",
       "    </tr>\n",
       "  </thead>\n",
       "  <tbody>\n",
       "    <tr>\n",
       "      <td>0</td>\n",
       "      <td>Foothill Blvd at 42nd Ave</td>\n",
       "      <td>Grand Ave at Perkins St</td>\n",
       "      <td>NaN</td>\n",
       "      <td>NaN</td>\n",
       "      <td>2019-01-31 17:57:44.613</td>\n",
       "      <td>2019-02-01 16:24:49.864</td>\n",
       "      <td>Subscriber</td>\n",
       "      <td>1347.087517</td>\n",
       "      <td>2019</td>\n",
       "      <td>1</td>\n",
       "      <td>31</td>\n",
       "      <td>17</td>\n",
       "      <td>Thursday</td>\n",
       "    </tr>\n",
       "    <tr>\n",
       "      <td>1</td>\n",
       "      <td>Cyril Magnin St at Ellis St</td>\n",
       "      <td>Valencia St at 24th St</td>\n",
       "      <td>NaN</td>\n",
       "      <td>NaN</td>\n",
       "      <td>2019-01-31 20:58:33.886</td>\n",
       "      <td>2019-02-01 15:16:54.173</td>\n",
       "      <td>Subscriber</td>\n",
       "      <td>1098.338117</td>\n",
       "      <td>2019</td>\n",
       "      <td>1</td>\n",
       "      <td>31</td>\n",
       "      <td>20</td>\n",
       "      <td>Thursday</td>\n",
       "    </tr>\n",
       "    <tr>\n",
       "      <td>2</td>\n",
       "      <td>Downtown Berkeley BART</td>\n",
       "      <td>65th St at Hollis St</td>\n",
       "      <td>NaN</td>\n",
       "      <td>NaN</td>\n",
       "      <td>2019-01-31 18:06:52.924</td>\n",
       "      <td>2019-02-01 11:30:46.530</td>\n",
       "      <td>Customer</td>\n",
       "      <td>1043.893433</td>\n",
       "      <td>2019</td>\n",
       "      <td>1</td>\n",
       "      <td>31</td>\n",
       "      <td>18</td>\n",
       "      <td>Thursday</td>\n",
       "    </tr>\n",
       "    <tr>\n",
       "      <td>3</td>\n",
       "      <td>Church St at Duboce Ave</td>\n",
       "      <td>Grove St at Divisadero</td>\n",
       "      <td>NaN</td>\n",
       "      <td>NaN</td>\n",
       "      <td>2019-01-31 19:46:09.719</td>\n",
       "      <td>2019-02-01 08:10:50.318</td>\n",
       "      <td>Customer</td>\n",
       "      <td>744.676650</td>\n",
       "      <td>2019</td>\n",
       "      <td>1</td>\n",
       "      <td>31</td>\n",
       "      <td>19</td>\n",
       "      <td>Thursday</td>\n",
       "    </tr>\n",
       "    <tr>\n",
       "      <td>4</td>\n",
       "      <td>Steuart St at Market St</td>\n",
       "      <td>The Embarcadero at Bryant St</td>\n",
       "      <td>NaN</td>\n",
       "      <td>NaN</td>\n",
       "      <td>2019-01-31 14:19:01.541</td>\n",
       "      <td>2019-02-01 07:10:51.065</td>\n",
       "      <td>Customer</td>\n",
       "      <td>1011.825400</td>\n",
       "      <td>2019</td>\n",
       "      <td>1</td>\n",
       "      <td>31</td>\n",
       "      <td>14</td>\n",
       "      <td>Thursday</td>\n",
       "    </tr>\n",
       "  </tbody>\n",
       "</table>\n",
       "</div>"
      ],
      "text/plain": [
       "            start_station_name              end_station_name  \\\n",
       "0    Foothill Blvd at 42nd Ave       Grand Ave at Perkins St   \n",
       "1  Cyril Magnin St at Ellis St        Valencia St at 24th St   \n",
       "2       Downtown Berkeley BART          65th St at Hollis St   \n",
       "3      Church St at Duboce Ave        Grove St at Divisadero   \n",
       "4      Steuart St at Market St  The Embarcadero at Bryant St   \n",
       "\n",
       "  rental_access_method rideable_type              start_time  \\\n",
       "0                  NaN           NaN 2019-01-31 17:57:44.613   \n",
       "1                  NaN           NaN 2019-01-31 20:58:33.886   \n",
       "2                  NaN           NaN 2019-01-31 18:06:52.924   \n",
       "3                  NaN           NaN 2019-01-31 19:46:09.719   \n",
       "4                  NaN           NaN 2019-01-31 14:19:01.541   \n",
       "\n",
       "                 end_time   user_type  duration_min  start_year  start_month  \\\n",
       "0 2019-02-01 16:24:49.864  Subscriber   1347.087517        2019            1   \n",
       "1 2019-02-01 15:16:54.173  Subscriber   1098.338117        2019            1   \n",
       "2 2019-02-01 11:30:46.530    Customer   1043.893433        2019            1   \n",
       "3 2019-02-01 08:10:50.318    Customer    744.676650        2019            1   \n",
       "4 2019-02-01 07:10:51.065    Customer   1011.825400        2019            1   \n",
       "\n",
       "   start_day  start_hour start_weekday  \n",
       "0         31          17      Thursday  \n",
       "1         31          20      Thursday  \n",
       "2         31          18      Thursday  \n",
       "3         31          19      Thursday  \n",
       "4         31          14      Thursday  "
      ]
     },
     "execution_count": 33,
     "metadata": {},
     "output_type": "execute_result"
    }
   ],
   "source": [
    "data.head() "
   ]
  },
  {
   "cell_type": "code",
   "execution_count": 34,
   "metadata": {
    "ExecuteTime": {
     "end_time": "2020-10-14T21:22:20.145611Z",
     "start_time": "2020-10-14T21:22:18.570481Z"
    },
    "slideshow": {
     "slide_type": "skip"
    }
   },
   "outputs": [
    {
     "data": {
      "text/plain": [
       "start_station_name       778201\n",
       "end_station_name         790707\n",
       "rental_access_method    2596966\n",
       "rideable_type           2610955\n",
       "start_time                    0\n",
       "end_time                      0\n",
       "user_type                     0\n",
       "duration_min                  0\n",
       "start_year                    0\n",
       "start_month                   0\n",
       "start_day                     0\n",
       "start_hour                    0\n",
       "start_weekday                 0\n",
       "dtype: int64"
      ]
     },
     "execution_count": 34,
     "metadata": {},
     "output_type": "execute_result"
    }
   ],
   "source": [
    "data.isna().sum()"
   ]
  },
  {
   "cell_type": "markdown",
   "metadata": {
    "slideshow": {
     "slide_type": "skip"
    }
   },
   "source": [
    "**All good, no missing durations, we also got the year, month and day of each trip.**"
   ]
  },
  {
   "cell_type": "markdown",
   "metadata": {
    "slideshow": {
     "slide_type": "skip"
    }
   },
   "source": [
    "**So, what if we dropped all rows with missing values?**"
   ]
  },
  {
   "cell_type": "code",
   "execution_count": 35,
   "metadata": {
    "ExecuteTime": {
     "end_time": "2020-10-14T21:22:20.907100Z",
     "start_time": "2020-10-14T21:22:20.147752Z"
    },
    "slideshow": {
     "slide_type": "skip"
    }
   },
   "outputs": [
    {
     "data": {
      "text/plain": [
       "(0, 13)"
      ]
     },
     "execution_count": 35,
     "metadata": {},
     "output_type": "execute_result"
    }
   ],
   "source": [
    "data.dropna().shape"
   ]
  },
  {
   "cell_type": "markdown",
   "metadata": {
    "slideshow": {
     "slide_type": "skip"
    }
   },
   "source": [
    "**WOW, we shouldn't do that!**\n",
    "\n",
    "\n",
    "**Let's keep them and clean each column of [start_station_name, end_station_name, rental_access_method, rideable_type] (if needed) individually when doing analysis.**"
   ]
  },
  {
   "cell_type": "code",
   "execution_count": 36,
   "metadata": {
    "ExecuteTime": {
     "end_time": "2020-10-14T21:22:21.332707Z",
     "start_time": "2020-10-14T21:22:20.908924Z"
    },
    "slideshow": {
     "slide_type": "skip"
    }
   },
   "outputs": [
    {
     "data": {
      "text/html": [
       "<div>\n",
       "<style scoped>\n",
       "    .dataframe tbody tr th:only-of-type {\n",
       "        vertical-align: middle;\n",
       "    }\n",
       "\n",
       "    .dataframe tbody tr th {\n",
       "        vertical-align: top;\n",
       "    }\n",
       "\n",
       "    .dataframe thead th {\n",
       "        text-align: right;\n",
       "    }\n",
       "</style>\n",
       "<table border=\"1\" class=\"dataframe\">\n",
       "  <thead>\n",
       "    <tr style=\"text-align: right;\">\n",
       "      <th></th>\n",
       "      <th>duration_min</th>\n",
       "      <th>start_year</th>\n",
       "      <th>start_month</th>\n",
       "      <th>start_day</th>\n",
       "      <th>start_hour</th>\n",
       "    </tr>\n",
       "  </thead>\n",
       "  <tbody>\n",
       "    <tr>\n",
       "      <td>count</td>\n",
       "      <td>3.299015e+06</td>\n",
       "      <td>3.299015e+06</td>\n",
       "      <td>3.299015e+06</td>\n",
       "      <td>3.299015e+06</td>\n",
       "      <td>3.299015e+06</td>\n",
       "    </tr>\n",
       "    <tr>\n",
       "      <td>mean</td>\n",
       "      <td>1.638869e+01</td>\n",
       "      <td>2.019481e+03</td>\n",
       "      <td>4.181839e+00</td>\n",
       "      <td>1.594903e+01</td>\n",
       "      <td>1.376899e+01</td>\n",
       "    </tr>\n",
       "    <tr>\n",
       "      <td>std</td>\n",
       "      <td>1.658511e+02</td>\n",
       "      <td>4.996236e-01</td>\n",
       "      <td>2.361156e+00</td>\n",
       "      <td>8.829208e+00</td>\n",
       "      <td>4.719908e+00</td>\n",
       "    </tr>\n",
       "    <tr>\n",
       "      <td>min</td>\n",
       "      <td>-6.270000e+01</td>\n",
       "      <td>2.019000e+03</td>\n",
       "      <td>1.000000e+00</td>\n",
       "      <td>1.000000e+00</td>\n",
       "      <td>0.000000e+00</td>\n",
       "    </tr>\n",
       "    <tr>\n",
       "      <td>25%</td>\n",
       "      <td>6.158158e+00</td>\n",
       "      <td>2.019000e+03</td>\n",
       "      <td>2.000000e+00</td>\n",
       "      <td>8.000000e+00</td>\n",
       "      <td>9.000000e+00</td>\n",
       "    </tr>\n",
       "    <tr>\n",
       "      <td>50%</td>\n",
       "      <td>1.007897e+01</td>\n",
       "      <td>2.019000e+03</td>\n",
       "      <td>4.000000e+00</td>\n",
       "      <td>1.600000e+01</td>\n",
       "      <td>1.500000e+01</td>\n",
       "    </tr>\n",
       "    <tr>\n",
       "      <td>75%</td>\n",
       "      <td>1.626794e+01</td>\n",
       "      <td>2.020000e+03</td>\n",
       "      <td>6.000000e+00</td>\n",
       "      <td>2.400000e+01</td>\n",
       "      <td>1.700000e+01</td>\n",
       "    </tr>\n",
       "    <tr>\n",
       "      <td>max</td>\n",
       "      <td>5.472887e+04</td>\n",
       "      <td>2.020000e+03</td>\n",
       "      <td>8.000000e+00</td>\n",
       "      <td>3.100000e+01</td>\n",
       "      <td>2.300000e+01</td>\n",
       "    </tr>\n",
       "  </tbody>\n",
       "</table>\n",
       "</div>"
      ],
      "text/plain": [
       "       duration_min    start_year   start_month     start_day    start_hour\n",
       "count  3.299015e+06  3.299015e+06  3.299015e+06  3.299015e+06  3.299015e+06\n",
       "mean   1.638869e+01  2.019481e+03  4.181839e+00  1.594903e+01  1.376899e+01\n",
       "std    1.658511e+02  4.996236e-01  2.361156e+00  8.829208e+00  4.719908e+00\n",
       "min   -6.270000e+01  2.019000e+03  1.000000e+00  1.000000e+00  0.000000e+00\n",
       "25%    6.158158e+00  2.019000e+03  2.000000e+00  8.000000e+00  9.000000e+00\n",
       "50%    1.007897e+01  2.019000e+03  4.000000e+00  1.600000e+01  1.500000e+01\n",
       "75%    1.626794e+01  2.020000e+03  6.000000e+00  2.400000e+01  1.700000e+01\n",
       "max    5.472887e+04  2.020000e+03  8.000000e+00  3.100000e+01  2.300000e+01"
      ]
     },
     "execution_count": 36,
     "metadata": {},
     "output_type": "execute_result"
    }
   ],
   "source": [
    "data.describe()"
   ]
  },
  {
   "cell_type": "markdown",
   "metadata": {
    "slideshow": {
     "slide_type": "slide"
    }
   },
   "source": [
    "## Exploratory Data Analysis"
   ]
  },
  {
   "cell_type": "markdown",
   "metadata": {
    "slideshow": {
     "slide_type": "subslide"
    }
   },
   "source": [
    "**Univariate relationships:**\n",
    "\n",
    "- Number of rides per user type; who does the most rides?\n",
    "- Explore most used bike_type.\n",
    "- Explore start_weekday of trips.\n",
    "- Explore start_hour of trips.\n",
    "- Find top 10 stations (top-start & top-end) and the common stations between them to target offers to users visiting these places.\n",
    "\n",
    "**Bivariate relationships:**\n",
    "\n",
    "- Find most crowded stations at rush hours.\n",
    "- Explore bike rides in 2019 and 2020 throughout the period of Jan:Aug, and see if COVID-19 affected the bussiness; number of rides.\n",
    "- Compare rental_methods and user_types.\n",
    "- Is there a relationship between trip hour-time and user_type?\n",
    "- Explore the relationship between user_type, trip duration.\n",
    "\n",
    "**Multivariate relationships:**\n",
    "- Explore the relationship between start_weekday, trip_duration and user_type."
   ]
  },
  {
   "cell_type": "markdown",
   "metadata": {
    "slideshow": {
     "slide_type": "slide"
    }
   },
   "source": [
    "## Univariate relationships:"
   ]
  },
  {
   "cell_type": "code",
   "execution_count": 37,
   "metadata": {
    "ExecuteTime": {
     "end_time": "2020-10-14T21:22:21.336348Z",
     "start_time": "2020-10-14T21:22:21.334121Z"
    }
   },
   "outputs": [],
   "source": [
    "# to display one color when needed\n",
    "base_color = sb.color_palette()[0]"
   ]
  },
  {
   "cell_type": "markdown",
   "metadata": {
    "ExecuteTime": {
     "end_time": "2020-10-13T20:44:26.501939Z",
     "start_time": "2020-10-13T20:44:26.490411Z"
    },
    "slideshow": {
     "slide_type": "slide"
    }
   },
   "source": [
    "### Number of rides per user type; who does the most rides?"
   ]
  },
  {
   "cell_type": "code",
   "execution_count": 38,
   "metadata": {
    "ExecuteTime": {
     "end_time": "2020-10-14T21:22:21.717281Z",
     "start_time": "2020-10-14T21:22:21.338352Z"
    },
    "scrolled": true,
    "slideshow": {
     "slide_type": "subslide"
    }
   },
   "outputs": [
    {
     "data": {
      "image/png": "[encoded data removed]",
      "text/plain": [
       "<Figure size 1080x432 with 1 Axes>"
      ]
     },
     "metadata": {},
     "output_type": "display_data"
    }
   ],
   "source": [
    "plt.figure(figsize= [15, 6])\n",
    "proportions = data['user_type'].value_counts()/data.shape[0]\n",
    "labels = proportions.index\n",
    "plt.pie(proportions[::-1], labels=labels[::-1], autopct='%1.1f%%', explode=[0,0.1], shadow=True, startangle=90);\n",
    "plt.title(\"Number of rides per user type \\n\");"
   ]
  },
  {
   "cell_type": "markdown",
   "metadata": {
    "slideshow": {
     "slide_type": "fragment"
    }
   },
   "source": [
    "**Subscribed users do the most rides.**"
   ]
  },
  {
   "cell_type": "markdown",
   "metadata": {
    "ExecuteTime": {
     "end_time": "2020-10-13T20:44:26.501939Z",
     "start_time": "2020-10-13T20:44:26.490411Z"
    },
    "slideshow": {
     "slide_type": "slide"
    }
   },
   "source": [
    "### Most used bike_type"
   ]
  },
  {
   "cell_type": "code",
   "execution_count": 39,
   "metadata": {
    "ExecuteTime": {
     "end_time": "2020-10-14T21:22:22.329152Z",
     "start_time": "2020-10-14T21:22:21.718632Z"
    },
    "scrolled": true,
    "slideshow": {
     "slide_type": "subslide"
    }
   },
   "outputs": [
    {
     "data": {
      "image/png": "[encoded data removed]",
      "text/plain": [
       "<Figure size 720x360 with 1 Axes>"
      ]
     },
     "metadata": {
      "needs_background": "light"
     },
     "output_type": "display_data"
    }
   ],
   "source": [
    "plt.figure(figsize= [10, 5])\n",
    "sb.countplot(x='rideable_type', data=data, color=base_color);\n",
    "plt.xlabel(\"Bike Type\");\n",
    "plt.ylabel(\"Number of rides\");\n",
    "plt.title(\"Number of rides per bike type\");"
   ]
  },
  {
   "cell_type": "markdown",
   "metadata": {
    "slideshow": {
     "slide_type": "fragment"
    }
   },
   "source": [
    "**Most users prefer electric bike.**"
   ]
  },
  {
   "cell_type": "markdown",
   "metadata": {
    "slideshow": {
     "slide_type": "slide"
    }
   },
   "source": [
    "### Explore start_hour of trips (find rush hours)"
   ]
  },
  {
   "cell_type": "code",
   "execution_count": 40,
   "metadata": {
    "ExecuteTime": {
     "end_time": "2020-10-14T21:22:22.688327Z",
     "start_time": "2020-10-14T21:22:22.331019Z"
    },
    "slideshow": {
     "slide_type": "subslide"
    }
   },
   "outputs": [
    {
     "data": {
      "image/png": "[encoded data removed]",
      "text/plain": [
       "<Figure size 1080x360 with 1 Axes>"
      ]
     },
     "metadata": {
      "needs_background": "light"
     },
     "output_type": "display_data"
    }
   ],
   "source": [
    "plt.figure(figsize = [15, 5])\n",
    "\n",
    "sb.countplot(x='start_hour', data=data, color= base_color);\n",
    "\n",
    "plt.title(\"Number of rides per hour \\n\", fontsize=15);\n",
    "plt.xlabel(\"\\n Hour\", fontsize=15);\n",
    "plt.ylabel(\"Number of rides \\n\", fontsize=15);"
   ]
  },
  {
   "cell_type": "markdown",
   "metadata": {
    "slideshow": {
     "slide_type": "fragment"
    }
   },
   "source": [
    "**We can see that hours with the most trips are (8 AM, 9 AM, 5 PM and 6 PM) which are working hours. Users might be using the bikes to get to and from work.**"
   ]
  },
  {
   "cell_type": "markdown",
   "metadata": {
    "slideshow": {
     "slide_type": "skip"
    }
   },
   "source": [
    "## Some useful function we will use later:"
   ]
  },
  {
   "cell_type": "code",
   "execution_count": 41,
   "metadata": {
    "ExecuteTime": {
     "end_time": "2020-10-14T21:22:22.693071Z",
     "start_time": "2020-10-14T21:22:22.689978Z"
    },
    "slideshow": {
     "slide_type": "skip"
    }
   },
   "outputs": [],
   "source": [
    "def get_top_n_stations(typ, n):\n",
    "    \n",
    "    if typ == 'start':\n",
    "        return data['start_station_name'].value_counts()[:n]\n",
    "    \n",
    "    elif typ == 'end':\n",
    "        return data['end_station_name'].value_counts()[:n]\n",
    "    \n",
    "    else:\n",
    "        return \"Invalid station type!\""
   ]
  },
  {
   "cell_type": "code",
   "execution_count": 42,
   "metadata": {
    "ExecuteTime": {
     "end_time": "2020-10-14T21:22:22.732552Z",
     "start_time": "2020-10-14T21:22:22.694683Z"
    },
    "slideshow": {
     "slide_type": "skip"
    }
   },
   "outputs": [],
   "source": [
    "def get_common_stations(top_start, top_end):\n",
    "    \n",
    "    \"\"\"\n",
    "    Args:\n",
    "    \n",
    "        top_start: top start stations\n",
    "        top_end: top end stations\n",
    "        \n",
    "    Returns:\n",
    "        \n",
    "        commons: common stations between top_start & top_end\n",
    "        total_n_trips: total number of trips from/to station\n",
    "    \n",
    "    \"\"\"\n",
    "    \n",
    "    # getting common stations between top_start & top_end\n",
    "    # using .index to get station name.\n",
    "    commons = top_start_stations[top_start_stations.index.isin(top_end_stations.index)].index.to_list()\n",
    "    \n",
    "    # adding n_trips from station + n_trips to station\n",
    "    total_n_trips = top_start_stations[commons].values + top_end_stations[commons].values \n",
    "    \n",
    "    commons_df = pd.DataFrame({'station_name': commons, 'total_n_trips': total_n_trips}).sort_values(by='total_n_trips', ascending=False)\n",
    "    \n",
    "    return commons_df"
   ]
  },
  {
   "cell_type": "markdown",
   "metadata": {
    "slideshow": {
     "slide_type": "slide"
    }
   },
   "source": [
    "### Find top 10 stations (top-start & top-end) and the common stations between them to target offers to users visiting these places."
   ]
  },
  {
   "cell_type": "markdown",
   "metadata": {
    "slideshow": {
     "slide_type": "subslide"
    }
   },
   "source": [
    "### Top Start Stations"
   ]
  },
  {
   "cell_type": "code",
   "execution_count": 43,
   "metadata": {
    "ExecuteTime": {
     "end_time": "2020-10-14T21:22:22.738142Z",
     "start_time": "2020-10-14T21:22:22.734149Z"
    },
    "slideshow": {
     "slide_type": "skip"
    }
   },
   "outputs": [],
   "source": [
    "n = 10 # top n stations"
   ]
  },
  {
   "cell_type": "code",
   "execution_count": 44,
   "metadata": {
    "ExecuteTime": {
     "end_time": "2020-10-14T21:22:23.211508Z",
     "start_time": "2020-10-14T21:22:22.739635Z"
    },
    "slideshow": {
     "slide_type": "fragment"
    }
   },
   "outputs": [
    {
     "data": {
      "image/png": "[encoded data removed]",
      "text/plain": [
       "<Figure size 1080x432 with 1 Axes>"
      ]
     },
     "metadata": {
      "needs_background": "light"
     },
     "output_type": "display_data"
    }
   ],
   "source": [
    "top_start_stations = get_top_n_stations('start', n)\n",
    "\n",
    "plt.figure(figsize=(15,6))\n",
    "\n",
    "sb.barplot(top_start_stations.values, y= top_start_stations.index, color= base_color);\n",
    "plt.title(\"Top {} Start Stations\\n\".format(n), fontsize=15);\n",
    "plt.xlabel(\"\\n Number of trips from station\", fontsize=15);\n",
    "plt.ylabel(\"Station\", fontsize=15);"
   ]
  },
  {
   "cell_type": "markdown",
   "metadata": {
    "slideshow": {
     "slide_type": "subslide"
    }
   },
   "source": [
    "### Top End Stations"
   ]
  },
  {
   "cell_type": "code",
   "execution_count": 45,
   "metadata": {
    "ExecuteTime": {
     "end_time": "2020-10-14T21:22:23.710617Z",
     "start_time": "2020-10-14T21:22:23.213527Z"
    },
    "slideshow": {
     "slide_type": "fragment"
    }
   },
   "outputs": [
    {
     "data": {
      "image/png": "[encoded data removed]",
      "text/plain": [
       "<Figure size 1080x432 with 1 Axes>"
      ]
     },
     "metadata": {
      "needs_background": "light"
     },
     "output_type": "display_data"
    }
   ],
   "source": [
    "top_end_stations = get_top_n_stations('end', n)\n",
    "\n",
    "plt.figure(figsize=(15,6))\n",
    "\n",
    "sb.barplot(top_end_stations.values, y= top_end_stations.index, color= base_color);\n",
    "\n",
    "plt.title(\"Top {} End Stations\\n\".format(n), fontsize=15);\n",
    "plt.xlabel(\"\\n Station\", fontsize=15);\n",
    "plt.ylabel(\"Number of trips to station\", fontsize=15);"
   ]
  },
  {
   "cell_type": "markdown",
   "metadata": {
    "slideshow": {
     "slide_type": "subslide"
    }
   },
   "source": [
    "### Common Stations between start&end stations"
   ]
  },
  {
   "cell_type": "code",
   "execution_count": 46,
   "metadata": {
    "ExecuteTime": {
     "end_time": "2020-10-14T21:22:23.927840Z",
     "start_time": "2020-10-14T21:22:23.712172Z"
    },
    "slideshow": {
     "slide_type": "fragment"
    }
   },
   "outputs": [
    {
     "data": {
      "image/png": "[encoded data removed]",
      "text/plain": [
       "<Figure size 1080x432 with 1 Axes>"
      ]
     },
     "metadata": {
      "needs_background": "light"
     },
     "output_type": "display_data"
    }
   ],
   "source": [
    "commons = get_common_stations(top_start_stations, top_end_stations)\n",
    "\n",
    "plt.figure(figsize=(15,6))\n",
    "\n",
    "sb.barplot(data= commons, x= 'total_n_trips', y= 'station_name', color= base_color);\n",
    "\n",
    "plt.title(\"Most Common Stations\\n\", fontsize=15);\n",
    "plt.xlabel(\"\\n Station\", fontsize=15);\n",
    "plt.ylabel(\"Number of trips to station\", fontsize=15);"
   ]
  },
  {
   "cell_type": "markdown",
   "metadata": {
    "slideshow": {
     "slide_type": "fragment"
    }
   },
   "source": [
    "**As we noticed earlier, hours with the most trips are (8 AM, 9 AM, 5 PM and 6 PM) which are working hours, let's explore crowded stations..**"
   ]
  },
  {
   "cell_type": "markdown",
   "metadata": {
    "slideshow": {
     "slide_type": "subslide"
    }
   },
   "source": [
    "### Most crowded stations at rush hours:"
   ]
  },
  {
   "cell_type": "code",
   "execution_count": 47,
   "metadata": {
    "ExecuteTime": {
     "end_time": "2020-10-14T21:22:24.342920Z",
     "start_time": "2020-10-14T21:22:23.929746Z"
    },
    "slideshow": {
     "slide_type": "fragment"
    }
   },
   "outputs": [
    {
     "data": {
      "image/png": "[encoded data removed]",
      "text/plain": [
       "<Figure size 1080x432 with 1 Axes>"
      ]
     },
     "metadata": {
      "needs_background": "light"
     },
     "output_type": "display_data"
    }
   ],
   "source": [
    "rush_hours_stations = data[data['start_hour'].isin([8,9,17,18])]['start_station_name'].value_counts()[:10]\n",
    "\n",
    "plt.figure(figsize=(15,6))\n",
    "\n",
    "sb.barplot(x= rush_hours_stations.values, y= rush_hours_stations.index, color= base_color);\n",
    "\n",
    "plt.title(\"Rush hours Stations\\n\", fontsize=15);\n",
    "plt.xlabel(\"\\n Station\", fontsize=15);\n",
    "plt.ylabel(\"Number of trips to station\", fontsize=15);"
   ]
  },
  {
   "cell_type": "markdown",
   "metadata": {
    "slideshow": {
     "slide_type": "fragment"
    }
   },
   "source": [
    "**We can attract users by providing offers to and from these stations.**"
   ]
  },
  {
   "cell_type": "markdown",
   "metadata": {
    "slideshow": {
     "slide_type": "slide"
    }
   },
   "source": [
    "### Bivariate relationships:"
   ]
  },
  {
   "cell_type": "markdown",
   "metadata": {
    "slideshow": {
     "slide_type": "slide"
    }
   },
   "source": [
    "### Inspect COVID-19 Effect"
   ]
  },
  {
   "cell_type": "markdown",
   "metadata": {
    "slideshow": {
     "slide_type": "subslide"
    }
   },
   "source": [
    "Let's compare the number of rides in 2019 and 2020"
   ]
  },
  {
   "cell_type": "code",
   "execution_count": 48,
   "metadata": {
    "ExecuteTime": {
     "end_time": "2020-10-14T21:22:24.744445Z",
     "start_time": "2020-10-14T21:22:24.344836Z"
    },
    "scrolled": false,
    "slideshow": {
     "slide_type": "fragment"
    }
   },
   "outputs": [
    {
     "data": {
      "image/png": "[encoded data removed]",
      "text/plain": [
       "<Figure size 864x432 with 1 Axes>"
      ]
     },
     "metadata": {
      "needs_background": "light"
     },
     "output_type": "display_data"
    }
   ],
   "source": [
    "plt.figure(figsize = [12, 6])\n",
    "\n",
    "sb.countplot(x='start_month', data=data, hue='start_year');\n",
    "plt.xlabel(\"\\n Month\");\n",
    "plt.ylabel(\"Number of rides \\n\");\n",
    "plt.title(\"\\nNumber of rides per Month in 2019 & 2020 \\n\");\n",
    "plt.xticks(ticks=plt.xticks()[0], labels= (\"Jan\", \"Feb\", \"Mar\", \"Apr\", \"May\", \"Jun\", \"Jul\", \"Aug\"));"
   ]
  },
  {
   "cell_type": "markdown",
   "metadata": {
    "slideshow": {
     "slide_type": "subslide"
    }
   },
   "source": [
    "**In 2020, bike rides numbers were at their highest, starting the year in Jan & Feb with higher number than those of 2019, however, we can notice that the number of rides had a surprising drop in March and kept dropping through April, the two months that had the most lockdowns and extreme measurements. The number of rides increased a bit at May, but comparing to 2019's numbers, COVID-19 affected the bike rides.**"
   ]
  },
  {
   "cell_type": "markdown",
   "metadata": {
    "slideshow": {
     "slide_type": "subslide"
    }
   },
   "source": [
    "#### Total number of rides in 2019 & 2020 (Univariate)"
   ]
  },
  {
   "cell_type": "code",
   "execution_count": 49,
   "metadata": {
    "ExecuteTime": {
     "end_time": "2020-10-14T21:22:24.964543Z",
     "start_time": "2020-10-14T21:22:24.746629Z"
    },
    "slideshow": {
     "slide_type": "fragment"
    }
   },
   "outputs": [
    {
     "data": {
      "image/png": "[encoded data removed]",
      "text/plain": [
       "<Figure size 720x360 with 1 Axes>"
      ]
     },
     "metadata": {
      "needs_background": "light"
     },
     "output_type": "display_data"
    }
   ],
   "source": [
    "plt.figure(figsize= [10, 5])\n",
    "sb.countplot(x='start_year', data=data);\n",
    "plt.xlabel(\"Year\");\n",
    "plt.ylabel(\"Number of rides\");\n",
    "plt.title(\"Number of rides per year\");"
   ]
  },
  {
   "cell_type": "code",
   "execution_count": 50,
   "metadata": {
    "ExecuteTime": {
     "end_time": "2020-10-14T21:22:25.014172Z",
     "start_time": "2020-10-14T21:22:24.965930Z"
    },
    "slideshow": {
     "slide_type": "skip"
    }
   },
   "outputs": [
    {
     "data": {
      "text/plain": [
       "127993"
      ]
     },
     "execution_count": 50,
     "metadata": {},
     "output_type": "execute_result"
    }
   ],
   "source": [
    "data['start_year'].value_counts()[2019] - data['start_year'].value_counts()[2020]"
   ]
  },
  {
   "cell_type": "markdown",
   "metadata": {
    "slideshow": {
     "slide_type": "fragment"
    }
   },
   "source": [
    "**Apparently, COVID-19 has caused the bike rides to drop by 127,993 in 2020 rides.**"
   ]
  },
  {
   "cell_type": "markdown",
   "metadata": {
    "slideshow": {
     "slide_type": "slide"
    }
   },
   "source": [
    "### Compare rental_methods and user_types"
   ]
  },
  {
   "cell_type": "code",
   "execution_count": 51,
   "metadata": {
    "ExecuteTime": {
     "end_time": "2020-10-14T21:22:26.047035Z",
     "start_time": "2020-10-14T21:22:25.016701Z"
    },
    "scrolled": false,
    "slideshow": {
     "slide_type": "subslide"
    }
   },
   "outputs": [
    {
     "data": {
      "image/png": "[encoded data removed]",
      "text/plain": [
       "<Figure size 720x360 with 1 Axes>"
      ]
     },
     "metadata": {
      "needs_background": "light"
     },
     "output_type": "display_data"
    }
   ],
   "source": [
    "plt.figure(figsize= [10, 5])\n",
    "sb.countplot(x='rental_access_method', data=data, hue='user_type');\n",
    "plt.xlabel(\"Access method\");\n",
    "plt.ylabel(\"Number of rides\\n\");\n",
    "plt.title(\"Number of rides per user_type & access_method \\n\");"
   ]
  },
  {
   "cell_type": "markdown",
   "metadata": {
    "ExecuteTime": {
     "end_time": "2020-10-13T20:44:29.925827Z",
     "start_time": "2020-10-13T20:44:29.728223Z"
    },
    "slideshow": {
     "slide_type": "fragment"
    }
   },
   "source": [
    "**The app is the preferred access method for both Subscribers & Customers, as most rides were made through the app. We might consider sending offers through the app.**"
   ]
  },
  {
   "cell_type": "markdown",
   "metadata": {
    "ExecuteTime": {
     "end_time": "2020-10-13T20:44:26.501939Z",
     "start_time": "2020-10-13T20:44:26.490411Z"
    },
    "slideshow": {
     "slide_type": "slide"
    }
   },
   "source": [
    "### Is there a relationship between trip hour-time and user_type?"
   ]
  },
  {
   "cell_type": "code",
   "execution_count": 52,
   "metadata": {
    "ExecuteTime": {
     "end_time": "2020-10-14T21:22:26.883704Z",
     "start_time": "2020-10-14T21:22:26.048572Z"
    },
    "slideshow": {
     "slide_type": "subslide"
    }
   },
   "outputs": [
    {
     "data": {
      "image/png": "[encoded data removed]",
      "text/plain": [
       "<Figure size 1080x432 with 1 Axes>"
      ]
     },
     "metadata": {
      "needs_background": "light"
     },
     "output_type": "display_data"
    }
   ],
   "source": [
    "plt.figure(figsize= [15, 6])\n",
    "sb.countplot(x='start_hour', data=data, hue='user_type');\n",
    "plt.xlabel(\"Start hour\");\n",
    "plt.ylabel(\"Number of rides\\n\");\n",
    "plt.title(\"Number of rides per start_hour & user_type \\n\");"
   ]
  },
  {
   "cell_type": "markdown",
   "metadata": {
    "slideshow": {
     "slide_type": "fragment"
    }
   },
   "source": [
    "**As we noticed earlier, most rides are done in begining and ending of working-hours (8 or 9 AM & 5 or 6 PM).**\n",
    "\n",
    "**It doesn't seem to be a relationship between start_hour and user_type as both user types make rides at these times. However, most rides at these hours are done by subscribers, which strengthen the possibility that users use the bikes to get to and from work.**\n",
    "\n",
    "**Providing offers at these hours can attract more users.**"
   ]
  },
  {
   "cell_type": "markdown",
   "metadata": {
    "ExecuteTime": {
     "end_time": "2020-10-13T20:44:26.501939Z",
     "start_time": "2020-10-13T20:44:26.490411Z"
    },
    "slideshow": {
     "slide_type": "slide"
    }
   },
   "source": [
    "### Explore the relationship between user_type & trip duration"
   ]
  },
  {
   "cell_type": "markdown",
   "metadata": {
    "ExecuteTime": {
     "end_time": "2020-10-13T20:44:26.501939Z",
     "start_time": "2020-10-13T20:44:26.490411Z"
    },
    "slideshow": {
     "slide_type": "slide"
    }
   },
   "source": [
    "**First, let's look at trip duration's distribution (all data)**"
   ]
  },
  {
   "cell_type": "code",
   "execution_count": 53,
   "metadata": {
    "ExecuteTime": {
     "end_time": "2020-10-14T21:22:28.209729Z",
     "start_time": "2020-10-14T21:22:26.885592Z"
    },
    "scrolled": false,
    "slideshow": {
     "slide_type": "subslide"
    }
   },
   "outputs": [
    {
     "data": {
      "image/png": "[encoded data removed]",
      "text/plain": [
       "<Figure size 1080x504 with 1 Axes>"
      ]
     },
     "metadata": {
      "needs_background": "light"
     },
     "output_type": "display_data"
    }
   ],
   "source": [
    "plt.figure(figsize= [15, 7])\n",
    "\n",
    "binsize = 1\n",
    "bins = np.arange(0, 100, binsize)\n",
    "\n",
    "plt.hist(data[data['duration_min'] <= 100]['duration_min'], bins= bins);\n",
    "plt.xlabel(\"\\n Trip duration (in minutes) Distribution\")\n",
    "plt.ylabel(\"Number of rides \\n\")\n",
    "plt.title(\"Trip duration\\n\");\n",
    "plt.axvline(x=data[data['duration_min'] <= 100]['duration_min'].mean(), color='red');"
   ]
  },
  {
   "cell_type": "markdown",
   "metadata": {
    "slideshow": {
     "slide_type": "fragment"
    }
   },
   "source": [
    "**Trip duration follow a skewed-to-the-right normal distribution, with a mean of approximately 13.5, most rides are within the range of [0:20], although we removed durations > 100, there are some larger values (60/80, etc..)**"
   ]
  },
  {
   "cell_type": "markdown",
   "metadata": {
    "slideshow": {
     "slide_type": "slide"
    }
   },
   "source": [
    "### First, let's look at trip duration's distribution"
   ]
  },
  {
   "cell_type": "markdown",
   "metadata": {
    "ExecuteTime": {
     "end_time": "2020-10-13T20:44:26.501939Z",
     "start_time": "2020-10-13T20:44:26.490411Z"
    },
    "slideshow": {
     "slide_type": "subslide"
    }
   },
   "source": [
    "**Highlighting the two user types; Subscriber distribution in blue & Customer in orange**\n",
    "\n",
    "**Subscribers' mean is in black, while Customers' mean in green**"
   ]
  },
  {
   "cell_type": "code",
   "execution_count": 54,
   "metadata": {
    "ExecuteTime": {
     "end_time": "2020-10-14T21:22:30.263519Z",
     "start_time": "2020-10-14T21:22:28.211441Z"
    },
    "slideshow": {
     "slide_type": "fragment"
    }
   },
   "outputs": [
    {
     "data": {
      "image/png": "[encoded data removed]",
      "text/plain": [
       "<Figure size 1080x504 with 1 Axes>"
      ]
     },
     "metadata": {
      "needs_background": "light"
     },
     "output_type": "display_data"
    }
   ],
   "source": [
    "plt.figure(figsize= [15, 7])\n",
    "\n",
    "binsize = 1\n",
    "bins = np.arange(0, 100, binsize)\n",
    "\n",
    "subscribers = data.query('user_type == \"Subscriber\"')['duration_min']\n",
    "customers = data.query('user_type == \"Customer\"')['duration_min']\n",
    "\n",
    "plt.hist([subscribers, customers], bins= bins, label=['subscriber', 'customer']);\n",
    "plt.xlabel(\"\\n Trip duration (in minutes) distribution\")\n",
    "plt.ylabel(\"Number of rides \\n\")\n",
    "plt.title(\"trip duration (in minutes) per user type\\n\");\n",
    "\n",
    "mean_duration_subscriber = subscribers[subscribers <= 100].mean()\n",
    "plt.axvline(x=mean_duration_subscriber, color='black');\n",
    "\n",
    "mean_duration_customer = customers[customers <= 100].mean()\n",
    "plt.axvline(x=mean_duration_customer, color='green');\n",
    "\n",
    "plt.legend(loc='upper right');"
   ]
  },
  {
   "cell_type": "code",
   "execution_count": 55,
   "metadata": {
    "ExecuteTime": {
     "end_time": "2020-10-14T21:22:30.269359Z",
     "start_time": "2020-10-14T21:22:30.265590Z"
    },
    "slideshow": {
     "slide_type": "skip"
    }
   },
   "outputs": [
    {
     "data": {
      "text/plain": [
       "(11.480443838817335, 17.152870598789992)"
      ]
     },
     "execution_count": 55,
     "metadata": {},
     "output_type": "execute_result"
    }
   ],
   "source": [
    "mean_duration_subscriber, mean_duration_customer"
   ]
  },
  {
   "cell_type": "markdown",
   "metadata": {
    "ExecuteTime": {
     "end_time": "2020-10-13T23:40:49.784062Z",
     "start_time": "2020-10-13T23:40:49.768094Z"
    },
    "slideshow": {
     "slide_type": "fragment"
    }
   },
   "source": [
    "**We can see that customers have higher average trip duration than subscribers.**"
   ]
  },
  {
   "cell_type": "markdown",
   "metadata": {
    "ExecuteTime": {
     "end_time": "2020-10-13T20:44:26.501939Z",
     "start_time": "2020-10-13T20:44:26.490411Z"
    },
    "slideshow": {
     "slide_type": "slide"
    }
   },
   "source": [
    "## Multivariate relationships"
   ]
  },
  {
   "cell_type": "markdown",
   "metadata": {
    "ExecuteTime": {
     "end_time": "2020-10-13T20:44:26.501939Z",
     "start_time": "2020-10-13T20:44:26.490411Z"
    },
    "slideshow": {
     "slide_type": "slide"
    }
   },
   "source": [
    "### Explore the relationship between start_weekday, trip_duration and user_type"
   ]
  },
  {
   "cell_type": "code",
   "execution_count": 56,
   "metadata": {
    "ExecuteTime": {
     "end_time": "2020-10-14T21:23:20.853757Z",
     "start_time": "2020-10-14T21:22:30.270914Z"
    },
    "slideshow": {
     "slide_type": "subslide"
    }
   },
   "outputs": [
    {
     "data": {
      "image/png": "[encoded data removed]",
      "text/plain": [
       "<Figure size 1080x432 with 1 Axes>"
      ]
     },
     "metadata": {
      "needs_background": "light"
     },
     "output_type": "display_data"
    }
   ],
   "source": [
    "plt.figure(figsize= [15, 6])\n",
    "\n",
    "sb.barplot(x='start_weekday', y='duration_min', data=data, hue='user_type');\n",
    "plt.xlabel(\"weekday\");\n",
    "plt.ylabel(\"Trip duration\");\n",
    "plt.title(\"Trip Duration per weekday per user_type\");"
   ]
  },
  {
   "cell_type": "markdown",
   "metadata": {
    "ExecuteTime": {
     "end_time": "2020-10-13T23:40:49.784062Z",
     "start_time": "2020-10-13T23:40:49.768094Z"
    },
    "slideshow": {
     "slide_type": "fragment"
    }
   },
   "source": [
    "**The weekend (Saturday and Sunday) has the most trips, we can provide offers at thers days.**\n",
    "\n",
    "**We can also see that customers have more trip durations than subscribers, we can offer them subscribtion plans or bundles.**"
   ]
  },
  {
   "cell_type": "markdown",
   "metadata": {
    "slideshow": {
     "slide_type": "slide"
    }
   },
   "source": [
    "## Conclusion:"
   ]
  },
  {
   "cell_type": "markdown",
   "metadata": {
    "slideshow": {
     "slide_type": "subslide"
    }
   },
   "source": [
    "- Subscribed users do the most rides.\n",
    "- Most users prefer electric bike.\n",
    "- Rush hours are (8 AM, 9 AM, 5 PM and 6 PM) which are working hours, providing offers from/to crowded stations at these times can attract users.\n",
    "- COVID-19 has caused the bike rides to drop by 127,993 in 2020 rides, the least number of rides was through the lockdown period (March:April 2020).\n",
    "- The app is the preferred access method for both Subscribers & Customers, we might consider sending offers through the app.\n",
    "- The weekend (Saturday and Sunday) has the most trips, we can provide offers at these days.\n",
    "- Customers have more trip durations than subscribers, we can offer them subscription plans or bundles."
   ]
  },
  {
   "cell_type": "markdown",
   "metadata": {
    "slideshow": {
     "slide_type": "skip"
    }
   },
   "source": [
    "### Generating .html file"
   ]
  },
  {
   "cell_type": "code",
   "execution_count": 57,
   "metadata": {
    "ExecuteTime": {
     "end_time": "2020-10-14T21:23:22.131389Z",
     "start_time": "2020-10-14T21:23:20.855768Z"
    },
    "slideshow": {
     "slide_type": "skip"
    }
   },
   "outputs": [
    {
     "data": {
      "text/plain": [
       "0"
      ]
     },
     "execution_count": 57,
     "metadata": {},
     "output_type": "execute_result"
    }
   ],
   "source": [
    "from subprocess import call\n",
    "call(['python', '-m', 'nbconvert', 'GoBike_Data_Analysis.ipynb'])"
   ]
  },
  {
   "cell_type": "markdown",
   "metadata": {
    "slideshow": {
     "slide_type": "skip"
    }
   },
   "source": [
    "### Saving cleaned dataframe"
   ]
  },
  {
   "cell_type": "code",
   "execution_count": 58,
   "metadata": {
    "ExecuteTime": {
     "end_time": "2020-10-14T21:23:54.620254Z",
     "start_time": "2020-10-14T21:23:22.133774Z"
    },
    "slideshow": {
     "slide_type": "skip"
    }
   },
   "outputs": [],
   "source": [
    "data.to_csv('data_clean.csv', index=False, encoding = 'utf-8')"
   ]
  }
 ],
 "metadata": {
  "celltoolbar": "Slideshow",
  "kernelspec": {
   "display_name": "Python [conda env:root] *",
   "language": "python",
   "name": "conda-root-py"
  },
  "language_info": {
   "codemirror_mode": {
    "name": "ipython",
    "version": 3
   },
   "file_extension": ".py",
   "mimetype": "text/x-python",
   "name": "python",
   "nbconvert_exporter": "python",
   "pygments_lexer": "ipython3",
   "version": "3.7.4"
  }
 },
 "nbformat": 4,
 "nbformat_minor": 2
}
